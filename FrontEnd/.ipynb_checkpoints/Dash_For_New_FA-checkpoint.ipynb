{
 "cells": [
  {
   "cell_type": "code",
   "execution_count": null,
   "id": "53b93560",
   "metadata": {},
   "outputs": [],
   "source": []
  },
  {
   "cell_type": "code",
   "execution_count": 2,
   "id": "a8f8a343",
   "metadata": {},
   "outputs": [
    {
     "data": {
      "text/html": [
       "\n",
       "        <iframe\n",
       "            width=\"100%\"\n",
       "            height=\"650\"\n",
       "            src=\"http://127.0.0.1:8050/\"\n",
       "            frameborder=\"0\"\n",
       "            allowfullscreen\n",
       "            \n",
       "        ></iframe>\n",
       "        "
      ],
      "text/plain": [
       "<IPython.lib.display.IFrame at 0x1ff2dd520b0>"
      ]
     },
     "metadata": {},
     "output_type": "display_data"
    }
   ],
   "source": [
    "import dash\n",
    "import dash_core_components as dcc\n",
    "import dash_html_components as html\n",
    "from dash.dependencies import Input, Output\n",
    "import plotly.express as px\n",
    "import pandas as pd\n",
    "import numpy as np\n",
    "import datetime\n",
    "\n",
    "# Генерация случайных данных о ветре\n",
    "def random_FA():\n",
    "    speed = round(np.random.uniform(0, 10), 1)\n",
    "    direction = np.random.randint(0, 360)\n",
    "    datetime_sample = pd.Timestamp(datetime.datetime.now().replace(microsecond=0)).timestamp()\n",
    "\n",
    "    df = pd.DataFrame({\n",
    "        'datetime': [datetime_sample],\n",
    "        'speed': [speed],\n",
    "        'direction': [direction]\n",
    "    })\n",
    "    return df\n",
    "\n",
    "# Инициализация Dash приложения\n",
    "app = dash.Dash(__name__)\n",
    "\n",
    "# Создание розы ветров\n",
    "def create_wind_rose(df):\n",
    "    fig = px.scatter_polar(df, r='speed', theta='direction', color='speed', range_r=[0, 10])\n",
    "    fig.update_layout(\n",
    "        polar=dict(\n",
    "            radialaxis=dict(visible=True, range=[0, 10]),\n",
    "        ),\n",
    "        showlegend=False\n",
    "    )\n",
    "    return fig\n",
    "\n",
    "# Определение макета Dash приложения\n",
    "app.layout = html.Div([\n",
    "    html.H1(\"Роза ветров\"),\n",
    "\n",
    "    dcc.Graph(id='wind-rose-graph'),\n",
    "\n",
    "    dcc.Interval(\n",
    "        id='interval-component',\n",
    "        interval=500,  # Обновление каждые 5 секунд\n",
    "        n_intervals=0\n",
    "    )\n",
    "])\n",
    "\n",
    "# Функция обновления розы ветров по интервалу\n",
    "@app.callback(\n",
    "    Output('wind-rose-graph', 'figure'),\n",
    "    [Input('interval-component', 'n_intervals')]\n",
    ")\n",
    "def update_wind_rose(n):\n",
    "    # Генерация случайных данных о ветре\n",
    "    df = random_FA()\n",
    "    # Создание и возврат розы ветров\n",
    "    return create_wind_rose(df)\n",
    "\n",
    "# Запуск приложения\n",
    "if __name__ == '__main__':\n",
    "    app.run_server(debug=True)\n"
   ]
  },
  {
   "cell_type": "code",
   "execution_count": null,
   "id": "e6c17bbf",
   "metadata": {},
   "outputs": [],
   "source": []
  },
  {
   "cell_type": "code",
   "execution_count": 1,
   "id": "191f868a",
   "metadata": {},
   "outputs": [
    {
     "name": "stderr",
     "output_type": "stream",
     "text": [
      "C:\\Users\\Guest\\AppData\\Local\\Temp\\ipykernel_9968\\4111725043.py:2: UserWarning: \n",
      "The dash_core_components package is deprecated. Please replace\n",
      "`import dash_core_components as dcc` with `from dash import dcc`\n",
      "  import dash_core_components as dcc\n",
      "C:\\Users\\Guest\\AppData\\Local\\Temp\\ipykernel_9968\\4111725043.py:3: UserWarning: \n",
      "The dash_html_components package is deprecated. Please replace\n",
      "`import dash_html_components as html` with `from dash import html`\n",
      "  import dash_html_components as html\n"
     ]
    },
    {
     "data": {
      "text/html": [
       "\n",
       "        <iframe\n",
       "            width=\"100%\"\n",
       "            height=\"650\"\n",
       "            src=\"http://127.0.0.1:8050/\"\n",
       "            frameborder=\"0\"\n",
       "            allowfullscreen\n",
       "            \n",
       "        ></iframe>\n",
       "        "
      ],
      "text/plain": [
       "<IPython.lib.display.IFrame at 0x268d52cdd20>"
      ]
     },
     "metadata": {},
     "output_type": "display_data"
    }
   ],
   "source": [
    "import dash\n",
    "import dash_core_components as dcc\n",
    "import dash_html_components as html\n",
    "from dash.dependencies import Input, Output\n",
    "import plotly.express as px\n",
    "import pandas as pd\n",
    "import numpy as np\n",
    "import datetime\n",
    "\n",
    "# Генерация случайных данных о ветре\n",
    "def random_FA():\n",
    "    speed = round(np.random.uniform(0, 10), 1)\n",
    "    direction = np.random.randint(0, 360)\n",
    "    datetime_sample = pd.Timestamp(datetime.datetime.now().replace(microsecond=0)).timestamp()\n",
    "\n",
    "    df = pd.DataFrame({\n",
    "        'datetime': [datetime_sample],\n",
    "        'speed': [speed],\n",
    "        'direction': [direction]\n",
    "    })\n",
    "    return df\n",
    "\n",
    "# Инициализация Dash приложения\n",
    "app = dash.Dash(__name__)\n",
    "\n",
    "# Создание розы ветров\n",
    "def create_wind_rose(df):\n",
    "    fig = px.scatter_polar(df, r='speed', theta='direction', color='speed', range_r=[0, 10])\n",
    "    fig.update_layout(\n",
    "        polar=dict(\n",
    "            radialaxis=dict(visible=True, range=[0, 10]),\n",
    "        ),\n",
    "        showlegend=False\n",
    "    )\n",
    "    return fig\n",
    "\n",
    "# Определение макета Dash приложения\n",
    "app.layout = html.Div([\n",
    "    html.H1(\"Роза ветров\"),\n",
    "\n",
    "    dcc.Graph(id='wind-rose-graph'),\n",
    "\n",
    "    dcc.Interval(\n",
    "        id='interval-component',\n",
    "        interval=500,  # Обновление каждые 5 секунд\n",
    "        n_intervals=0\n",
    "    )\n",
    "])\n",
    "\n",
    "# Функция обновления розы ветров по интервалу\n",
    "@app.callback(\n",
    "    Output('wind-rose-graph', 'figure'),\n",
    "    [Input('interval-component', 'n_intervals')]\n",
    ")\n",
    "def update_wind_rose(n):\n",
    "    # Генерация случайных данных о ветре\n",
    "    df = random_FA()\n",
    "    # Создание и возврат розы ветров\n",
    "    return create_wind_rose(df)\n",
    "\n",
    "# Запуск приложения\n",
    "if __name__ == '__main__':\n",
    "    app.run_server(debug=True)\n"
   ]
  },
  {
   "cell_type": "code",
   "execution_count": null,
   "id": "29e17fec",
   "metadata": {},
   "outputs": [],
   "source": []
  }
 ],
 "metadata": {
  "kernelspec": {
   "display_name": "Python 3 (ipykernel)",
   "language": "python",
   "name": "python3"
  },
  "language_info": {
   "codemirror_mode": {
    "name": "ipython",
    "version": 3
   },
   "file_extension": ".py",
   "mimetype": "text/x-python",
   "name": "python",
   "nbconvert_exporter": "python",
   "pygments_lexer": "ipython3",
   "version": "3.10.9"
  }
 },
 "nbformat": 4,
 "nbformat_minor": 5
}
