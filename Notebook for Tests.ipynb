{
 "cells": [
  {
   "cell_type": "code",
   "execution_count": 1,
   "id": "c8db5c10",
   "metadata": {},
   "outputs": [
    {
     "name": "stdout",
     "output_type": "stream",
     "text": [
      "Найдено совпадение в начале строки\n",
      "Совпадение не найдено в начале строки\n"
     ]
    }
   ],
   "source": [
    "def find_match_at_beginning(data, pattern):\n",
    "    if data.startswith(pattern):\n",
    "        print(\"Найдено совпадение в начале строки\")\n",
    "    else:\n",
    "        print(\"Совпадение не найдено в начале строки\")\n",
    "\n",
    "pattern = b'\\x01\\x03\\x0e'\n",
    "string1 = b'\\x01\\x03\\x0e'  # Совпадение в начале строки\n",
    "string2 = b''  # Нет совпадения в начале строки\n",
    "\n",
    "find_match_at_beginning(string1, pattern)\n",
    "find_match_at_beginning(string2, pattern)\n"
   ]
  },
  {
   "cell_type": "code",
   "execution_count": null,
   "id": "83cb5efc",
   "metadata": {},
   "outputs": [],
   "source": []
  },
  {
   "cell_type": "code",
   "execution_count": null,
   "id": "6f40ab8e",
   "metadata": {},
   "outputs": [],
   "source": []
  }
 ],
 "metadata": {
  "kernelspec": {
   "display_name": "Python 3 (ipykernel)",
   "language": "python",
   "name": "python3"
  },
  "language_info": {
   "codemirror_mode": {
    "name": "ipython",
    "version": 3
   },
   "file_extension": ".py",
   "mimetype": "text/x-python",
   "name": "python",
   "nbconvert_exporter": "python",
   "pygments_lexer": "ipython3",
   "version": "3.10.9"
  }
 },
 "nbformat": 4,
 "nbformat_minor": 5
}
